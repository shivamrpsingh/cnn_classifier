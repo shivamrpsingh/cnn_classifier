{
 "cells": [
  {
   "cell_type": "code",
   "execution_count": 2,
   "metadata": {},
   "outputs": [],
   "source": [
    "import tensorflow as tf\n",
    "from tensorflow.keras import datasets,layers,models\n",
    "import matplotlib.pyplot as plt\n",
    "import numpy as np\n",
    "import pandas as pd\n",
    "import splitfolders\n",
    "from tensorflow.keras.layers import Dense, Activation\n",
    "from tensorflow.keras.metrics import categorical_crossentropy\n",
    "from tensorflow.keras.layers import Conv2D,Flatten,Dense,MaxPool2D,BatchNormalization,GlobalAveragePooling2D\n",
    "from tensorflow.keras.applications.resnet50 import preprocess_input,decode_predictions,ResNet50\n",
    "from tensorflow.keras.preprocessing.image import ImageDataGenerator,load_img,img_to_array\n",
    "from tensorflow.keras.preprocessing import image\n",
    "from tensorflow.keras.models import Sequential,Model\n",
    "import matplotlib.pyplot as plt\n",
    "import numpy as np\n",
    "from tensorflow.keras.callbacks import EarlyStopping\n"
   ]
  },
  {
   "cell_type": "code",
   "execution_count": 3,
   "metadata": {},
   "outputs": [],
   "source": [
    "input_dataset = r'Classification'\n"
   ]
  },
  {
   "cell_type": "code",
   "execution_count": 4,
   "metadata": {},
   "outputs": [],
   "source": [
    "output = r'Fruits Procesed'"
   ]
  },
  {
   "cell_type": "code",
   "execution_count": 5,
   "metadata": {},
   "outputs": [],
   "source": [
    "img_height,img_width = (224,224)\n",
    "batch_size = 256\n",
    "train_data_dir = r'Fruits Procesed\\train'\n",
    "test_data_dir = r'Fruits Procesed\\test'\n",
    "valid_data_dir = r'Fruits Procesed\\val'\n"
   ]
  },
  {
   "cell_type": "code",
   "execution_count": 6,
   "metadata": {},
   "outputs": [
    {
     "name": "stderr",
     "output_type": "stream",
     "text": [
      "Copying files: 10864 files [01:17, 140.42 files/s]\n"
     ]
    }
   ],
   "source": [
    "splitfolders.ratio(input_dataset,output,seed=101,ratio = (0.7,0.15,0.15))\n"
   ]
  },
  {
   "cell_type": "code",
   "execution_count": 7,
   "metadata": {},
   "outputs": [
    {
     "name": "stdout",
     "output_type": "stream",
     "text": [
      "Found 4564 images belonging to 6 classes.\n",
      "Found 648 images belonging to 6 classes.\n",
      "Found 652 images belonging to 6 classes.\n"
     ]
    }
   ],
   "source": [
    "train_datagen = ImageDataGenerator(preprocessing_function=preprocess_input,shear_range=0.2,zoom_range=0.2,horizontal_flip=True,validation_split=0.4)\n",
    "train_generator = train_datagen.flow_from_directory(train_data_dir,target_size=(img_height,img_width),batch_size=batch_size,class_mode='categorical',subset= 'training')\n",
    "valid_generator = train_datagen.flow_from_directory(valid_data_dir,target_size=(img_height,img_width),batch_size=batch_size,class_mode='categorical',subset= 'validation')\n",
    "test_generator = train_datagen.flow_from_directory(test_data_dir,target_size=(img_height,img_width),batch_size = 1,class_mode='categorical',subset= 'validation')\n",
    "x,y = test_generator.next()\n",
    "#from the train test and validation data using the imagedatagenerator, traingeneratot,validgenerator,testgenerator are obtained in batches\n"
   ]
  },
  {
   "cell_type": "code",
   "execution_count": 8,
   "metadata": {
    "scrolled": false
   },
   "outputs": [
    {
     "name": "stdout",
     "output_type": "stream",
     "text": [
      "Epoch 1/10\n",
      "18/18 [==============================] - 380s 21s/step - loss: 1.9756 - accuracy: 0.5868 - val_loss: 0.6466 - val_accuracy: 0.8380\n",
      "Epoch 2/10\n",
      "18/18 [==============================] - 350s 19s/step - loss: 0.1935 - accuracy: 0.9411 - val_loss: 0.2185 - val_accuracy: 0.9383\n",
      "Epoch 3/10\n",
      "18/18 [==============================] - 349s 19s/step - loss: 0.1034 - accuracy: 0.9664 - val_loss: 0.1671 - val_accuracy: 0.9444\n",
      "Epoch 4/10\n",
      "18/18 [==============================] - 350s 19s/step - loss: 0.0703 - accuracy: 0.9776 - val_loss: 0.1766 - val_accuracy: 0.9506\n",
      "Epoch 5/10\n",
      "18/18 [==============================] - 341s 19s/step - loss: 0.0606 - accuracy: 0.9759 - val_loss: 0.1790 - val_accuracy: 0.9475\n",
      "Epoch 6/10\n",
      "18/18 [==============================] - 345s 19s/step - loss: 0.0596 - accuracy: 0.9775 - val_loss: 0.1609 - val_accuracy: 0.9583\n",
      "Epoch 7/10\n",
      "18/18 [==============================] - 337s 19s/step - loss: 0.0390 - accuracy: 0.9876 - val_loss: 0.1507 - val_accuracy: 0.9568\n",
      "Epoch 8/10\n",
      "18/18 [==============================] - 336s 19s/step - loss: 0.0396 - accuracy: 0.9848 - val_loss: 0.1319 - val_accuracy: 0.9630\n",
      "Epoch 9/10\n",
      "18/18 [==============================] - 344s 19s/step - loss: 0.0325 - accuracy: 0.9890 - val_loss: 0.2010 - val_accuracy: 0.9552\n",
      "Epoch 10/10\n",
      "18/18 [==============================] - 350s 19s/step - loss: 0.0374 - accuracy: 0.9864 - val_loss: 0.1511 - val_accuracy: 0.9599\n"
     ]
    }
   ],
   "source": [
    "from tensorflow.keras.layers import Dropout\n",
    "early_stop = EarlyStopping(monitor='val_loss',mode='min',verbose=1,patience=3)\n",
    "base_model = ResNet50(include_top=False, weights='imagenet')\n",
    "x = base_model.output\n",
    "x = GlobalAveragePooling2D()(x)\n",
    "x = Dropout(0.5)(x)\n",
    "x = Dense(1024,activation='relu')(x)\n",
    "predictions = Dense(train_generator.num_classes,activation='softmax')(x)\n",
    "model = Model(inputs = base_model.input,outputs = predictions)\n",
    "for layer in base_model.layers:\n",
    "    layer.trainable = False\n",
    "model.compile(optimizer = 'adam',loss = 'categorical_crossentropy',metrics = ['accuracy'])\n",
    "#history = model.fit(train_generator,epochs = 20,validation_data=valid_generator,callbacks = [early_stop])\n",
    "history = model.fit(train_generator,epochs = 10,validation_data=valid_generator)\n"
   ]
  },
  {
   "cell_type": "code",
   "execution_count": 9,
   "metadata": {
    "scrolled": false
   },
   "outputs": [
    {
     "name": "stdout",
     "output_type": "stream",
     "text": [
      "652/652 - 64s - loss: 0.1532 - accuracy: 0.9632\n"
     ]
    },
    {
     "data": {
      "image/png": "[encoded data removed]",
      "text/plain": [
       "<Figure size 432x288 with 1 Axes>"
      ]
     },
     "metadata": {
      "needs_background": "light"
     },
     "output_type": "display_data"
    },
    {
     "data": {
      "image/png": "[encoded data removed]",
      "text/plain": [
       "<Figure size 432x288 with 1 Axes>"
      ]
     },
     "metadata": {
      "needs_background": "light"
     },
     "output_type": "display_data"
    }
   ],
   "source": [
    "test_loss,test_acc = model.evaluate(test_generator,verbose=2)\n",
    "models.save_model(model,'Final Model.h5')\n",
    "plt.plot(history.history['loss'])\n",
    "plt.plot(history.history['val_loss'])\n",
    "plt.title('model loss')\n",
    "plt.ylabel('loss')\n",
    "plt.xlabel('epoch')\n",
    "plt.legend(['train', 'test'], loc='upper left')\n",
    "plt.show()\n",
    "# summarize history for loss\n",
    "plt.plot(history.history['accuracy'])\n",
    "plt.plot(history.history['val_accuracy'])\n",
    "plt.title('model accuracy')\n",
    "plt.ylabel('accuracy')\n",
    "plt.xlabel('epoch')\n",
    "plt.legend(['train', 'test'], loc='upper left')\n",
    "plt.show()\n"
   ]
  },
  {
   "cell_type": "code",
   "execution_count": 10,
   "metadata": {},
   "outputs": [],
   "source": [
    "#confusion matrix shows performance based on test data\n",
    "file_names = test_generator.filenames\n",
    "nb_samples = len(test_generator)\n",
    "y_prob = []\n",
    "#y= []\n",
    "y_act = []\n",
    "test_generator.reset()\n",
    "for i in range(0,nb_samples):\n",
    "    X_test,Y_test = test_generator.next()\n",
    "    #y.append(model.predict(np.expand_dims(img_to_array(load_img(test_generator.filepaths[0],target_size=(224,224))),axis=0)))\n",
    "    y_prob.append(model.predict(X_test))\n",
    "    y_act.append(Y_test)\n"
   ]
  },
  {
   "cell_type": "code",
   "execution_count": 11,
   "metadata": {
    "scrolled": false
   },
   "outputs": [
    {
     "data": {
      "text/plain": [
       "<matplotlib.axes._subplots.AxesSubplot at 0x24bc2616688>"
      ]
     },
     "execution_count": 11,
     "metadata": {},
     "output_type": "execute_result"
    },
    {
     "data": {
      "image/png": "[encoded data removed]",
      "text/plain": [
       "<Figure size 864x864 with 2 Axes>"
      ]
     },
     "metadata": {
      "needs_background": "light"
     },
     "output_type": "display_data"
    }
   ],
   "source": [
    "#transfer learning\n",
    "predicted_class = [list(train_generator.class_indices.keys())[i.argmax()] for i in y_prob]\n",
    "actual_class = [list(train_generator.class_indices.keys())[i.argmax()] for i in y_act]\n",
    "out_df = pd.DataFrame(np.vstack([predicted_class,actual_class]).T,columns = ['Predicted','Actual'])\n",
    "confusion_matrix = pd.crosstab(out_df['Actual'],out_df['Predicted'],rownames=['Actual'],colnames=['Predicted'])\n",
    "import seaborn as sns\n",
    "import matplotlib.pyplot as plt\n",
    "plt.figure(figsize=(12,12))\n",
    "sns.heatmap(confusion_matrix,cmap='Blues',annot=True,fmt='d')\n"
   ]
  },
  {
   "cell_type": "code",
   "execution_count": 12,
   "metadata": {},
   "outputs": [
    {
     "name": "stdout",
     "output_type": "stream",
     "text": [
      "WARNING:tensorflow:`input_shape` is undefined or non-square, or `rows` is not in [128, 160, 192, 224]. Weights for input shape (224, 224) will be loaded as the default.\n"
     ]
    }
   ],
   "source": [
    "#import streamlit as st\n",
    "import tensorflow as tf\n",
    "from tensorflow.keras.applications import MobileNet\n",
    "from tensorflow.keras import datasets,layers,models\n",
    "from PIL import Image,ImageOps\n",
    "import numpy as np\n",
    "import pandas as pd\n",
    "from tensorflow.keras.layers import Conv2D,Flatten,Dense,MaxPool2D,BatchNormalization,GlobalAveragePooling2D\n",
    "from tensorflow.keras.applications.resnet50 import preprocess_input,decode_predictions,ResNet50\n",
    "from tensorflow.keras.preprocessing.image import ImageDataGenerator,load_img,img_to_array\n",
    "from tensorflow.keras.preprocessing import image\n",
    "from tensorflow.keras.models import Sequential,Model\n",
    "from tensorflow.keras.applications.inception_v3 import InceptionV3\n",
    "import tensorflow.keras.applications.inception_v3\n",
    "import tensorflow\n",
    "if False:\n",
    "  encode_model = InceptionV3(weights='imagenet') #converts image to matrix\n",
    "  encode_model = Model(encode_model.input, encode_model.layers[-2].output)\n",
    "  WIDTH = 299\n",
    "  HEIGHT = 299\n",
    "  OUTPUT_DIM = 2048\n",
    "  pi = \\\n",
    "    tensorflow.keras.applications.inception_v3.preprocess_input\n",
    "else:\n",
    "  encode_model = MobileNet(weights='imagenet',include_top=False)\n",
    "  WIDTH = 224\n",
    "  HEIGHT = 224\n",
    "  OUTPUT_DIM = 50176\n",
    "  pi = tensorflow.keras.applications.mobilenet.preprocess_input\n",
    "  \n"
   ]
  },
  {
   "cell_type": "code",
   "execution_count": 13,
   "metadata": {},
   "outputs": [
    {
     "data": {
      "text/plain": [
       "['fresh apple',\n",
       " 'fresh banana',\n",
       " 'fresh oranges',\n",
       " 'rottenapples',\n",
       " 'rottenbanana',\n",
       " 'rottenoranges']"
      ]
     },
     "execution_count": 13,
     "metadata": {},
     "output_type": "execute_result"
    }
   ],
   "source": [
    "list(test_generator.class_indices)\n"
   ]
  },
  {
   "cell_type": "code",
   "execution_count": 14,
   "metadata": {},
   "outputs": [],
   "source": [
    "l = list(test_generator.class_indices)\n"
   ]
  },
  {
   "cell_type": "code",
   "execution_count": 15,
   "metadata": {},
   "outputs": [],
   "source": [
    "def encodeImage(img):\n",
    "      img = ImageOps.fit(img,(WIDTH,HEIGHT),Image.ANTIALIAS)\n",
    "      x = tensorflow.keras.preprocessing.image.img_to_array(img)\n",
    "      x = np.expand_dims(x, axis=0)\n",
    "      x = pi(x)\n",
    "      x = encode_model.predict(x) # Get the encoding vector for the image\n",
    "      x = np.reshape(x, OUTPUT_DIM )\n",
    "      return x\n"
   ]
  },
  {
   "cell_type": "code",
   "execution_count": 16,
   "metadata": {},
   "outputs": [],
   "source": [
    "def import_predict(img,model):\n",
    "        img = ImageOps.fit(img,(224,224),Image.ANTIALIAS)\n",
    "        img = img_to_array(img)\n",
    "        img = np.expand_dims(img,axis=0)\n",
    "        img = preprocess_input(img)\n",
    "        prediction = model.predict(img)\n",
    "        return l[prediction.argmax()]\n"
   ]
  },
  {
   "cell_type": "code",
   "execution_count": 17,
   "metadata": {},
   "outputs": [],
   "source": [
    "from PIL import Image\n",
    "image = Image.open(r\"3 (1).jpg\")\n",
    "encoded_image=encodeImage(image)\n",
    "prediction = import_predict(img=image,model=model)\n"
   ]
  },
  {
   "cell_type": "code",
   "execution_count": 18,
   "metadata": {},
   "outputs": [],
   "source": [
    "image.show()"
   ]
  },
  {
   "cell_type": "code",
   "execution_count": 19,
   "metadata": {
    "scrolled": false
   },
   "outputs": [
    {
     "name": "stdout",
     "output_type": "stream",
     "text": [
      "fresh apple\n"
     ]
    }
   ],
   "source": [
    "print(prediction)"
   ]
  },
  {
   "cell_type": "code",
   "execution_count": 20,
   "metadata": {},
   "outputs": [],
   "source": [
    "model.save(\"Final_ResNet.h5\")"
   ]
  },
  {
   "cell_type": "code",
   "execution_count": 21,
   "metadata": {},
   "outputs": [
    {
     "data": {
      "text/plain": [
       "120126208"
      ]
     },
     "execution_count": 21,
     "metadata": {},
     "output_type": "execute_result"
    }
   ],
   "source": [
    "import os\n",
    "# Get file size in bytes for a given model\n",
    "os.stat(\"Final_ResNet.h5\").st_size"
   ]
  },
  {
   "cell_type": "code",
   "execution_count": 22,
   "metadata": {},
   "outputs": [],
   "source": [
    "from sklearn.metrics import accuracy_score\n",
    "def get_file_size(file_path):\n",
    "    size = os.path.getsize(file_path)\n",
    "    return size\n",
    " "
   ]
  },
  {
   "cell_type": "code",
   "execution_count": 23,
   "metadata": {
    "scrolled": true
   },
   "outputs": [],
   "source": [
    "model=models.load_model('Final_ResNet.h5')\n"
   ]
  },
  {
   "cell_type": "code",
   "execution_count": 24,
   "metadata": {
    "scrolled": true
   },
   "outputs": [
    {
     "name": "stdout",
     "output_type": "stream",
     "text": [
      "INFO:tensorflow:Assets written to: C:\\Users\\HP\\AppData\\Local\\Temp\\tmpgc8iyii6\\assets\n"
     ]
    },
    {
     "data": {
      "text/plain": [
       "102383884"
      ]
     },
     "execution_count": 24,
     "metadata": {},
     "output_type": "execute_result"
    }
   ],
   "source": [
    "# Converting a tf.Keras model to a TensorFlow Lite model.\n",
    "from tensorflow import lite\n",
    "converter = tf.lite.TFLiteConverter.from_keras_model(model)\n",
    "tflite_model = converter.convert()\n",
    "open(\"Final_ResNet\",\"wb\").write(tflite_model)\n",
    "# tf.lite.TFLiteConverter.from_saved_model()"
   ]
  },
  {
   "cell_type": "code",
   "execution_count": 25,
   "metadata": {},
   "outputs": [],
   "source": [
    "TF_LITE_MODEL_FILE_NAME = \"Final_ResNet\""
   ]
  },
  {
   "cell_type": "code",
   "execution_count": 26,
   "metadata": {},
   "outputs": [],
   "source": [
    "from sklearn.metrics import accuracy_score\n",
    "def get_file_size(file_path):\n",
    "    size = os.path.getsize(file_path)\n",
    "    return size"
   ]
  },
  {
   "cell_type": "code",
   "execution_count": 27,
   "metadata": {},
   "outputs": [],
   "source": [
    "def convert_bytes(size, unit=None):\n",
    "    if unit == \"KB\":\n",
    "        return print('File size: ' + str(round(size / 1024, 3)) + ' Kilobytes')\n",
    "    elif unit == \"MB\":\n",
    "        return print('File size: ' + str(round(size / (1024 * 1024), 3)) + ' Megabytes')\n",
    "    else:\n",
    "        return print('File size: ' + str(size) + ' bytes')"
   ]
  },
  {
   "cell_type": "code",
   "execution_count": 28,
   "metadata": {},
   "outputs": [],
   "source": [
    "TF_LITE_MODEL_FILE_NAME = \"Final_ResNet\""
   ]
  },
  {
   "cell_type": "code",
   "execution_count": 29,
   "metadata": {},
   "outputs": [
    {
     "name": "stdout",
     "output_type": "stream",
     "text": [
      "INFO:tensorflow:Assets written to: C:\\Users\\HP\\AppData\\Local\\Temp\\tmplhtiuwb5\\assets\n"
     ]
    },
    {
     "name": "stderr",
     "output_type": "stream",
     "text": [
      "INFO:tensorflow:Assets written to: C:\\Users\\HP\\AppData\\Local\\Temp\\tmplhtiuwb5\\assets\n"
     ]
    },
    {
     "data": {
      "text/plain": [
       "102383884"
      ]
     },
     "execution_count": 29,
     "metadata": {},
     "output_type": "execute_result"
    }
   ],
   "source": [
    "#tflite model without quantization\n",
    "# Converting a tf.Keras model to a TensorFlow Lite model.\n",
    "from tensorflow import lite\n",
    "converter = tf.lite.TFLiteConverter.from_keras_model(model)\n",
    "\n",
    "tflite_model = converter.convert()\n",
    "open(\"Final_ResNet\",\"wb\").write(tflite_model)\n",
    "# tf.lite.TFLiteConverter.from_saved_model()"
   ]
  },
  {
   "cell_type": "code",
   "execution_count": 30,
   "metadata": {},
   "outputs": [
    {
     "name": "stdout",
     "output_type": "stream",
     "text": [
      "File size: 97.641 Megabytes\n"
     ]
    }
   ],
   "source": [
    "#size of model without quantization\n",
    "convert_bytes(get_file_size(\"Final_ResNet\"), \"MB\")"
   ]
  },
  {
   "cell_type": "code",
   "execution_count": null,
   "metadata": {},
   "outputs": [],
   "source": []
  }
 ],
 "metadata": {
  "kernelspec": {
   "display_name": "Python 3",
   "language": "python",
   "name": "python3"
  },
  "language_info": {
   "codemirror_mode": {
    "name": "ipython",
    "version": 3
   },
   "file_extension": ".py",
   "mimetype": "text/x-python",
   "name": "python",
   "nbconvert_exporter": "python",
   "pygments_lexer": "ipython3",
   "version": "3.7.6"
  }
 },
 "nbformat": 4,
 "nbformat_minor": 4
}
